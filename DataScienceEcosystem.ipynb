{
 "cells": [
  {
   "cell_type": "markdown",
   "id": "b619123b-bae5-46c6-b535-fa58f936a573",
   "metadata": {},
   "source": [
    "# Data Science Tools and Ecosystem"
   ]
  },
  {
   "cell_type": "markdown",
   "id": "b711470d-b664-4f14-8a1d-c3c2587f28c5",
   "metadata": {},
   "source": [
    "In this notebook, Data Science Tools and Ecosystem are summarized."
   ]
  },
  {
   "cell_type": "markdown",
   "id": "58047249-e582-4401-b12b-67461e5cb8c4",
   "metadata": {},
   "source": [
    "__Objectives:__\n",
    "\n",
    "- List of popular languages that Data Scientist use.\n",
    "- Create code to multiply and add numbers.\n",
    "- Create code to convert minutes to hours."
   ]
  },
  {
   "cell_type": "markdown",
   "id": "39dae9b7-2c6b-4a54-8edd-3edffbedc4c7",
   "metadata": {},
   "source": [
    "Some of the popular languages that Data Scientists use are:\n",
    "1. SQL\n",
    "2. Java\n",
    "3. Python\n",
    "4. R"
   ]
  },
  {
   "cell_type": "markdown",
   "id": "269de114-ba96-4b1c-87e3-c4a0453d4af4",
   "metadata": {},
   "source": [
    "Some of the commonly used libraries used by Data Scientists include:\n",
    "1. TensorFlow\n",
    "2. NumPy\n",
    "3. Matplotlib\n",
    "4. Pandas"
   ]
  },
  {
   "cell_type": "markdown",
   "id": "3a94b873-823e-48db-893e-995d80827694",
   "metadata": {},
   "source": [
    "| Data Science Tools | \n",
    "|-------------------| \n",
    "| Jupyter Notebook| \n",
    "| R Studio | \n",
    "| Spyder | "
   ]
  },
  {
   "cell_type": "markdown",
   "id": "573a0e38-b369-4740-b6fa-8bf42ed96a16",
   "metadata": {},
   "source": [
    "### Below are a few examples of evaluating arithmetic expressions in Python"
   ]
  },
  {
   "cell_type": "code",
   "execution_count": 20,
   "id": "476c26d7-8c1d-4ef8-a0bc-4f4fb4ac5e1b",
   "metadata": {},
   "outputs": [
    {
     "data": {
      "text/plain": [
       "17"
      ]
     },
     "execution_count": 20,
     "metadata": {},
     "output_type": "execute_result"
    }
   ],
   "source": [
    "# This a simple arithmetic expression to mutiply then add integers\n",
    "(3*4)+5"
   ]
  },
  {
   "cell_type": "code",
   "execution_count": 40,
   "id": "82f3efe6-5feb-43f3-9fe9-0b21c0a9cbf1",
   "metadata": {},
   "outputs": [
    {
     "data": {
      "text/plain": [
       "3"
      ]
     },
     "execution_count": 40,
     "metadata": {},
     "output_type": "execute_result"
    }
   ],
   "source": [
    "# This will convert 200 minutes to hours by diving by 60\n",
    "200 // 60"
   ]
  },
  {
   "cell_type": "markdown",
   "id": "d6d1ee3b-a08b-4767-a663-06b78cc84826",
   "metadata": {},
   "source": [
    "## Author\n",
    "Selwa Aqqad"
   ]
  }
 ],
 "metadata": {
  "kernelspec": {
   "display_name": "Python 3 (ipykernel)",
   "language": "python",
   "name": "python3"
  },
  "language_info": {
   "codemirror_mode": {
    "name": "ipython",
    "version": 3
   },
   "file_extension": ".py",
   "mimetype": "text/x-python",
   "name": "python",
   "nbconvert_exporter": "python",
   "pygments_lexer": "ipython3",
   "version": "3.12.4"
  }
 },
 "nbformat": 4,
 "nbformat_minor": 5
}
